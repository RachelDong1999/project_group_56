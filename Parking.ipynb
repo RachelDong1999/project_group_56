{
 "cells": [
  {
   "cell_type": "code",
   "execution_count": 1,
   "metadata": {},
   "outputs": [],
   "source": [
    "import pandas as pd\n",
    "import csv"
   ]
  },
  {
   "cell_type": "code",
   "execution_count": 2,
   "metadata": {},
   "outputs": [
    {
     "name": "stderr",
     "output_type": "stream",
     "text": [
      "C:\\anaconda\\lib\\site-packages\\IPython\\core\\interactiveshell.py:3165: DtypeWarning: Columns (20,31,32) have mixed types.Specify dtype option on import or set low_memory=False.\n",
      "  has_raised = await self.run_ast_nodes(code_ast.body, cell_name,\n"
     ]
    }
   ],
   "source": [
    "df=pd.read_csv(r\"311_Service_Requests_2020.csv\")  #Load data from a CSV file\n",
    "df_10025=df[df[\"Incident Zip\"]==10025.0]          #choose zip 10025"
   ]
  },
  {
   "cell_type": "code",
   "execution_count": 3,
   "metadata": {},
   "outputs": [
    {
     "data": {
      "text/plain": [
       "False"
      ]
     },
     "execution_count": 3,
     "metadata": {},
     "output_type": "execute_result"
    }
   ],
   "source": [
    "general_prop=len(df[df[\"Complaint Type\"]==\"Illegal Parking\"])/len(df)                #Dividing the data amount of illegal Parking by the total data amount\n",
    "local_prop=len(df_10025[df_10025[\"Complaint Type\"]==\"Illegal Parking\"])/len(df_10025)#Dividing the data amount of illegal Parking in zip 10025 by the total data amount with zip 10025\n",
    "higher_parking_proportion=local_prop>general_prop                                    #Determining if local_prop is larger\n",
    "higher_parking_proportion                                                            #showing the result"
   ]
  },
  {
   "cell_type": "code",
   "execution_count": null,
   "metadata": {},
   "outputs": [],
   "source": []
  }
 ],
 "metadata": {
  "interpreter": {
   "hash": "b0796cc35b05ee315b5593911c99de7900288f977eebca66846979ba44084ad1"
  },
  "kernelspec": {
   "display_name": "Python 3.9.7 64-bit",
   "language": "python",
   "name": "python3"
  },
  "language_info": {
   "codemirror_mode": {
    "name": "ipython",
    "version": 3
   },
   "file_extension": ".py",
   "mimetype": "text/x-python",
   "name": "python",
   "nbconvert_exporter": "python",
   "pygments_lexer": "ipython3",
   "version": "3.8.8"
  },
  "orig_nbformat": 4
 },
 "nbformat": 4,
 "nbformat_minor": 2
}
